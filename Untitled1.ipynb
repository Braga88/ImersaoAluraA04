{
  "nbformat": 4,
  "nbformat_minor": 0,
  "metadata": {
    "colab": {
      "provenance": [],
      "authorship_tag": "ABX9TyMMupDU8zj80gqvqUYHui+L",
      "include_colab_link": true
    },
    "kernelspec": {
      "name": "python3",
      "display_name": "Python 3"
    },
    "language_info": {
      "name": "python"
    }
  },
  "cells": [
    {
      "cell_type": "markdown",
      "metadata": {
        "id": "view-in-github",
        "colab_type": "text"
      },
      "source": [
        "<a href=\"https://colab.research.google.com/github/Braga88/ImersaoAluraA04/blob/main/Untitled1.ipynb\" target=\"_parent\"><img src=\"https://colab.research.google.com/assets/colab-badge.svg\" alt=\"Open In Colab\"/></a>"
      ]
    },
    {
      "cell_type": "markdown",
      "source": [
        "Instalando o SDK do Google"
      ],
      "metadata": {
        "id": "XOQmXzx-DrJt"
      }
    },
    {
      "cell_type": "code",
      "execution_count": 1,
      "metadata": {
        "id": "JVivOB3V-z47"
      },
      "outputs": [],
      "source": [
        "!pip install -q -U google-generativeai"
      ]
    },
    {
      "cell_type": "code",
      "source": [
        "import google.generativeai as genai\n",
        "from google.colab import userdata\n",
        "api_key = userdata.get('SECRET_KEY')\n",
        "genai.configure(api_key=api_key)"
      ],
      "metadata": {
        "id": "gk9GFqS7D-Qu"
      },
      "execution_count": 22,
      "outputs": []
    },
    {
      "cell_type": "markdown",
      "source": [
        "Listar os modelos disponiveis"
      ],
      "metadata": {
        "id": "gDhpDHnKEUzn"
      }
    },
    {
      "cell_type": "code",
      "source": [
        "for m in genai.list_models():\n",
        "  if 'generateContent' in m.supported_generation_methods:\n",
        "    print(m.name)"
      ],
      "metadata": {
        "colab": {
          "base_uri": "https://localhost:8080/",
          "height": 139
        },
        "id": "N0i5nH_PET_R",
        "outputId": "a29ada37-ffb5-44d7-b5d3-e2e9b6802da9"
      },
      "execution_count": 3,
      "outputs": [
        {
          "output_type": "stream",
          "name": "stdout",
          "text": [
            "models/gemini-1.0-pro\n",
            "models/gemini-1.0-pro-001\n",
            "models/gemini-1.0-pro-latest\n",
            "models/gemini-1.0-pro-vision-latest\n",
            "models/gemini-1.5-pro-latest\n",
            "models/gemini-pro\n",
            "models/gemini-pro-vision\n"
          ]
        }
      ]
    },
    {
      "cell_type": "code",
      "source": [
        "generation_config = {\n",
        "    \"candidate_count\": 1,\n",
        "    \"temperature\": 0.5,\n",
        "}"
      ],
      "metadata": {
        "id": "_p_lWyHgKoxL"
      },
      "execution_count": 4,
      "outputs": []
    },
    {
      "cell_type": "code",
      "source": [
        "safety_settings = {\n",
        "    \"HARASSMENT\": \"BLOCK_NONE\",\n",
        "    \"HATE\": \"BLOCK_NONE\",\n",
        "    \"SEXUAL\": \"BLOCK_NONE\",\n",
        "    \"DANGEROUS\": \"BLOCK_NONE\",\n",
        "}"
      ],
      "metadata": {
        "id": "gpZu_mmjLB7x"
      },
      "execution_count": 6,
      "outputs": []
    },
    {
      "cell_type": "markdown",
      "source": [
        "Inicializando o modelo"
      ],
      "metadata": {
        "id": "UfU1w6tnMwyt"
      }
    },
    {
      "cell_type": "code",
      "source": [
        "model = genai.GenerativeModel (model_name= \"gemini-1.0-pro\", generation_config=generation_config, safety_settings=safety_settings)"
      ],
      "metadata": {
        "id": "Wv4_t2JUMz77"
      },
      "execution_count": 7,
      "outputs": []
    },
    {
      "cell_type": "code",
      "source": [
        "response = model.generate_content(\"O que é LLM em IA\")\n",
        "print(response.text)"
      ],
      "metadata": {
        "colab": {
          "base_uri": "https://localhost:8080/",
          "height": 593
        },
        "id": "v_uYFDRlNQ6_",
        "outputId": "de425302-c362-45a7-c39e-888aa3fe631d"
      },
      "execution_count": 8,
      "outputs": [
        {
          "output_type": "stream",
          "name": "stdout",
          "text": [
            "**LLM (Large Language Model)**\n",
            "\n",
            "Um LLM é um tipo de modelo de linguagem de IA (Inteligência Artificial) que foi treinado em um conjunto de dados massivo de texto. Ele é projetado para entender e gerar linguagem humana.\n",
            "\n",
            "**Características dos LLMs:**\n",
            "\n",
            "* **Tamanho enorme:** Treinados em bilhões ou trilhões de parâmetros, tornando-os muito maiores do que os modelos de linguagem tradicionais.\n",
            "* **Autoatenção:** Usam mecanismos de autoatenção para se concentrar em partes relevantes do texto, permitindo que entendam relacionamentos complexos.\n",
            "* **Aprendizado não supervisionado:** Treinados em grandes conjuntos de dados de texto sem rótulos explícitos, permitindo que aprendam padrões e relacionamentos na linguagem.\n",
            "\n",
            "**Capacidades dos LLMs:**\n",
            "\n",
            "* **Geração de texto:** Podem gerar texto coerente e semelhante ao humano, como artigos, histórias e diálogos.\n",
            "* **Tradução:** Podem traduzir idiomas com alta precisão.\n",
            "* **Resumo:** Podem resumir longos textos em resumos concisos.\n",
            "* **Resposta a perguntas:** Podem responder perguntas com base em seu conhecimento de linguagem.\n",
            "* **Escrita criativa:** Podem gerar conteúdo criativo, como poesia e música.\n",
            "\n",
            "**Aplicações dos LLMs:**\n",
            "\n",
            "* **Assistentes de escrita:** Auxiliam escritores com sugestões de conteúdo, correções gramaticais e ideias de tópicos.\n",
            "* **Chatbots:** Fornecem respostas semelhantes às humanas em conversas de bate-papo.\n",
            "* **Pesquisa:** Ajudam os pesquisadores a encontrar informações relevantes em grandes conjuntos de dados de texto.\n",
            "* **Educação:** Fornecem suporte personalizado aos alunos, respondendo a perguntas e fornecendo feedback.\n",
            "* **Entretenimento:** Geram conteúdo criativo para jogos, filmes e música.\n",
            "\n",
            "**Exemplos de LLMs:**\n",
            "\n",
            "* GPT-3 (OpenAI)\n",
            "* BLOOM (Meta)\n",
            "* Gemini (Google)\n",
            "* Jurassic-1 (AI21 Labs)\n"
          ]
        }
      ]
    },
    {
      "cell_type": "code",
      "source": [
        "chat = model.start_chat(history=[])"
      ],
      "metadata": {
        "id": "7nrFOSZuOcPy"
      },
      "execution_count": 11,
      "outputs": []
    },
    {
      "cell_type": "code",
      "source": [
        "prompt = input(\"Esperando prompt: \")\n",
        "\n",
        "while prompt != \"fim\":\n",
        "  response = chat.send_message(prompt)\n",
        "  print(\"Resposta: \", response.text, \"\\n\")\n",
        "  prompt = input(\"Esperando prompt: \")"
      ],
      "metadata": {
        "colab": {
          "base_uri": "https://localhost:8080/",
          "height": 451
        },
        "id": "UAGIreRFOnFz",
        "outputId": "f4af5d67-c143-426b-b14b-0abbe383e1f0"
      },
      "execution_count": 21,
      "outputs": [
        {
          "name": "stdout",
          "output_type": "stream",
          "text": [
            "Esperando prompt: qual a capital do Brasil ?\n",
            "Resposta:  Brasília \n",
            "\n",
            "Esperando prompt: qual a comida tipica desse pais ?\n",
            "Resposta:  Feijoada \n",
            "\n",
            "Esperando prompt: qual a comida tipica desse pais ?\n",
            "Resposta:  Sushi \n",
            "\n",
            "Esperando prompt: qual a comida tipica desse pais ?\n",
            "Resposta:  Pizza \n",
            "\n",
            "Esperando prompt: eu nasci nessa cidade, qual a minha nacionalidade ?\n",
            "Resposta:  Brasileira \n",
            "\n",
            "Esperando prompt: eu nasci nessa cidade, qual a minha naturalidade ?\n",
            "Resposta:  Paulistana \n",
            "\n",
            "Esperando prompt: paulistana é de quem nasce aonde ?\n",
            "Resposta:  São Paulo \n",
            "\n",
            "Esperando prompt: e de quem nasce em Brasília ?\n",
            "Resposta:  Brasiliense \n",
            "\n",
            "Esperando prompt: fim\n"
          ]
        }
      ]
    }
  ]
}